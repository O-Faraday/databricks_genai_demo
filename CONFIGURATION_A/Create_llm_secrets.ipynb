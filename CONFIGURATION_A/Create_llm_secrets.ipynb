{
 "cells": [
  {
   "cell_type": "markdown",
   "metadata": {
    "application/vnd.databricks.v1+cell": {
     "cellMetadata": {},
     "inputWidgets": {},
     "nuid": "f221ab09-4e42-488b-8d6b-91657b2d9aed",
     "showTitle": false,
     "tableResultSettingsMap": {},
     "title": ""
    }
   },
   "source": [
    "## Create the scope\n",
    "First I will create the scope for the project"
   ]
  },
  {
   "cell_type": "code",
   "execution_count": 0,
   "metadata": {
    "application/vnd.databricks.v1+cell": {
     "cellMetadata": {
      "byteLimit": 2048000,
      "rowLimit": 10000
     },
     "inputWidgets": {},
     "nuid": "8b4a32fc-8763-4699-8034-ab5e773ee38f",
     "showTitle": false,
     "tableResultSettingsMap": {},
     "title": ""
    }
   },
   "outputs": [],
   "source": [
    "\n",
    "# Create the secrets scope\n",
    "from databricks.sdk import WorkspaceClient\n",
    "\n",
    "# open the sdk client \n",
    "w = WorkspaceClient()\n",
    "# create the scope\n",
    "#w.secrets.create_scope(scope=\"llm_secrets\")\n",
    "# add the secrets\n",
    "w.secrets.put_secret(scope=\"llm_secrets\", key=\"openai_api_key\", string_value=\"Replace by your own api key\")\n",
    "#w.secrets.put_secret(scope=\"llm_secrets\", key=\"huggingface_api_key\", string_value=\"Replace by your own api key\")\n",
    "#w.secrets.put_secret(scope=\"llm_secrets\", key=\"zeroentropy_api_key\", string_value=\"Replace by your own api key\")"
   ]
  },
  {
   "cell_type": "markdown",
   "metadata": {
    "application/vnd.databricks.v1+cell": {
     "cellMetadata": {},
     "inputWidgets": {},
     "nuid": "ad36d752-31ef-4a0b-ba63-d532bd73077f",
     "showTitle": false,
     "tableResultSettingsMap": {},
     "title": ""
    }
   },
   "source": [
    "Just check the scope has well been created."
   ]
  },
  {
   "cell_type": "code",
   "execution_count": 0,
   "metadata": {
    "application/vnd.databricks.v1+cell": {
     "cellMetadata": {
      "byteLimit": 2048000,
      "rowLimit": 10000
     },
     "inputWidgets": {},
     "nuid": "a230fe01-9b2d-4861-bdab-c5d530352e5d",
     "showTitle": false,
     "tableResultSettingsMap": {},
     "title": ""
    }
   },
   "outputs": [],
   "source": [
    "print(\"scope list : \", dbutils.secrets.listScopes())\n",
    "print(\"secrets : \", dbutils.secrets.list(\"llm_secrets\"))"
   ]
  },
  {
   "cell_type": "markdown",
   "metadata": {
    "application/vnd.databricks.v1+cell": {
     "cellMetadata": {},
     "inputWidgets": {},
     "nuid": "d52b4344-e6ea-45a3-aebd-c61c9887e7ad",
     "showTitle": false,
     "tableResultSettingsMap": {},
     "title": ""
    }
   },
   "source": [
    "Now "
   ]
  }
 ],
 "metadata": {
  "application/vnd.databricks.v1+notebook": {
   "computePreferences": null,
   "dashboards": [],
   "environmentMetadata": {
    "base_environment": "",
    "environment_version": "2"
   },
   "inputWidgetPreferences": null,
   "language": "python",
   "notebookMetadata": {
    "mostRecentlyExecutedCommandWithImplicitDF": {
     "commandId": -1,
     "dataframes": [
      "_sqldf"
     ]
    },
    "pythonIndentUnit": 4
   },
   "notebookName": "Create_llm_secrets",
   "widgets": {}
  },
  "language_info": {
   "name": "python"
  }
 },
 "nbformat": 4,
 "nbformat_minor": 0
}
