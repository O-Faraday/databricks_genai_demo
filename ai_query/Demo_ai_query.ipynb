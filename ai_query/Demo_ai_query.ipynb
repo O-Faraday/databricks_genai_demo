{
 "cells": [
  {
   "cell_type": "markdown",
   "metadata": {
    "application/vnd.databricks.v1+cell": {
     "cellMetadata": {},
     "inputWidgets": {},
     "nuid": "62079c47-3e13-43d8-b098-c664e2e99020",
     "showTitle": false,
     "tableResultSettingsMap": {},
     "title": ""
    }
   },
   "source": [
    "## Use of AI_query\n",
    "### Creation the queries tables in the demo ctalog / demo schema"
   ]
  },
  {
   "cell_type": "code",
   "execution_count": 0,
   "metadata": {
    "application/vnd.databricks.v1+cell": {
     "cellMetadata": {
      "byteLimit": 2048000,
      "implicitDf": true,
      "rowLimit": 10000
     },
     "inputWidgets": {},
     "nuid": "fa6d49b0-c0e0-47c2-97a7-d42c1a26460d",
     "showTitle": false,
     "tableResultSettingsMap": {},
     "title": ""
    }
   },
   "outputs": [],
   "source": [
    "%sql\n",
    "USE CATALOG DEMO;\n",
    "USE SCHEMA DEMO;\n",
    "CREATE TABLE IF NOT EXISTS queries\n",
    "(\n",
    "   query  STRING\n",
    ");"
   ]
  },
  {
   "cell_type": "markdown",
   "metadata": {
    "application/vnd.databricks.v1+cell": {
     "cellMetadata": {},
     "inputWidgets": {},
     "nuid": "f60d2419-64a9-4d1f-8cb7-efee64e877d1",
     "showTitle": false,
     "tableResultSettingsMap": {},
     "title": ""
    }
   },
   "source": [
    "###Insert the query in the table."
   ]
  },
  {
   "cell_type": "code",
   "execution_count": 0,
   "metadata": {
    "application/vnd.databricks.v1+cell": {
     "cellMetadata": {
      "byteLimit": 2048000,
      "implicitDf": true,
      "rowLimit": 10000
     },
     "inputWidgets": {},
     "nuid": "265e5ff9-c489-4bbe-ae2b-54125f5bef7c",
     "showTitle": false,
     "tableResultSettingsMap": {},
     "title": ""
    }
   },
   "outputs": [],
   "source": [
    "%sql\n",
    "INSERT INTO queries VALUES\n",
    "   ('on Databricks, can you define and illustrate the ai_query function ?');"
   ]
  },
  {
   "cell_type": "markdown",
   "metadata": {
    "application/vnd.databricks.v1+cell": {
     "cellMetadata": {},
     "inputWidgets": {},
     "nuid": "93446996-8316-441d-873d-2252e9875818",
     "showTitle": false,
     "tableResultSettingsMap": {},
     "title": ""
    }
   },
   "source": [
    "### Call the model endpoint on the query"
   ]
  },
  {
   "cell_type": "code",
   "execution_count": 0,
   "metadata": {
    "application/vnd.databricks.v1+cell": {
     "cellMetadata": {
      "byteLimit": 2048000,
      "implicitDf": true,
      "rowLimit": 10000
     },
     "inputWidgets": {},
     "nuid": "99e6c99a-34d5-4dc2-9d4f-d372eb1a18c2",
     "showTitle": false,
     "tableResultSettingsMap": {},
     "title": ""
    }
   },
   "outputs": [],
   "source": [
    "%sql\n",
    " create or replace  view\n",
    "    ai_query_v\n",
    "    TBLPROPERTIES('pipelines.channel' = 'PREVIEW') AS\n",
    "  SELECT\n",
    "    query as query,\n",
    "    ai_query(\"chat_gpt_4o_mini\", query) as response\n",
    "  FROM\n",
    "    queries\n",
    "  LIMIT 3;\n",
    "\n",
    "select * from ai_query_v;"
   ]
  },
  {
   "cell_type": "markdown",
   "metadata": {
    "application/vnd.databricks.v1+cell": {
     "cellMetadata": {},
     "inputWidgets": {},
     "nuid": "95384d59-59da-4111-9e42-5e10f62f8374",
     "showTitle": false,
     "tableResultSettingsMap": {},
     "title": ""
    }
   },
   "source": [
    "### Call the model endpoint, create a prompt template with system instruction in which the query will be inserted\n",
    "### Add new parameters to the call of the LLM"
   ]
  },
  {
   "cell_type": "code",
   "execution_count": 0,
   "metadata": {
    "application/vnd.databricks.v1+cell": {
     "cellMetadata": {
      "byteLimit": 2048000,
      "implicitDf": true,
      "rowLimit": 10000
     },
     "inputWidgets": {},
     "nuid": "8ea41e5a-e8f6-4923-9282-5e8fd7207cd6",
     "showTitle": false,
     "tableResultSettingsMap": {},
     "title": ""
    }
   },
   "outputs": [],
   "source": [
    "%sql\n",
    "SELECT query, ai_query(\n",
    "    endpoint=>\"chat_gpt_4o_mini\", -- model endpoint \n",
    "    request=>\"As a senior Databricks engineer you are are supposed to answuer the following query in a clear and concise way. Query : \" || query, -- Creation of the prompt\n",
    "    modelParameters => named_struct('max_tokens', 300, 'temperature', 0.7) -- Params of the LLM\n",
    ") AS response\n",
    "FROM queries;"
   ]
  }
 ],
 "metadata": {
  "application/vnd.databricks.v1+notebook": {
   "computePreferences": null,
   "dashboards": [],
   "environmentMetadata": {
    "base_environment": "",
    "environment_version": "2"
   },
   "inputWidgetPreferences": null,
   "language": "python",
   "notebookMetadata": {
    "mostRecentlyExecutedCommandWithImplicitDF": {
     "commandId": 5019058908422355,
     "dataframes": [
      "_sqldf"
     ]
    },
    "pythonIndentUnit": 4
   },
   "notebookName": "Demo_ai_query",
   "widgets": {}
  },
  "language_info": {
   "name": "python"
  }
 },
 "nbformat": 4,
 "nbformat_minor": 0
}
