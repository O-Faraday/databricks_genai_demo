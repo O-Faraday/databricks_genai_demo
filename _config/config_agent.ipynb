{
 "cells": [
  {
   "cell_type": "code",
   "execution_count": 0,
   "metadata": {
    "application/vnd.databricks.v1+cell": {
     "cellMetadata": {
      "byteLimit": 2048000,
      "rowLimit": 10000
     },
     "inputWidgets": {},
     "nuid": "0fb43dc1-742a-4b7c-a033-e53c39bcacb8",
     "showTitle": false,
     "tableResultSettingsMap": {},
     "title": ""
    }
   },
   "outputs": [],
   "source": [
    "experiment_name=\"langgraph_agent_demo\"\n",
    "\n",
    "\n",
    "email = spark.sql('select current_user() as user').collect()[0]['user']\n",
    "username = email.split('@')[0].replace('.', '_')\n",
    "print(username)\n",
    "mlflow_experiment_name = f\"/Users/{email}/{experiment_name}\"\n",
    "print(mlflow_experiment_name)"
   ]
  },
  {
   "cell_type": "code",
   "execution_count": 0,
   "metadata": {
    "application/vnd.databricks.v1+cell": {
     "cellMetadata": {
      "byteLimit": 2048000,
      "rowLimit": 10000
     },
     "inputWidgets": {},
     "nuid": "c3e92277-8418-482d-ae96-3d93bba3bd23",
     "showTitle": false,
     "tableResultSettingsMap": {},
     "title": ""
    }
   },
   "outputs": [],
   "source": [
    "import mlflow\n",
    "from mlflow import MlflowClient\n",
    "\n",
    "mlflow.set_registry_uri('databricks-uc')\n",
    "# experiment name\n",
    "# Workaround for a bug fix that is in progress\n",
    "mlflow.spark.autolog(disable=True)\n",
    "\n",
    "import warnings\n",
    "warnings.filterwarnings(\"ignore\")\n",
    "# Disable MLflow warnings\n",
    "import logging\n",
    "logging.getLogger('mlflow').setLevel(logging.ERROR)\n",
    "\n",
    "mlflow.set_experiment(mlflow_experiment_name)"
   ]
  }
 ],
 "metadata": {
  "application/vnd.databricks.v1+notebook": {
   "computePreferences": null,
   "dashboards": [],
   "environmentMetadata": {
    "base_environment": "",
    "environment_version": "2"
   },
   "inputWidgetPreferences": null,
   "language": "python",
   "notebookMetadata": {
    "pythonIndentUnit": 4
   },
   "notebookName": "config_agent",
   "widgets": {}
  },
  "language_info": {
   "name": "python"
  }
 },
 "nbformat": 4,
 "nbformat_minor": 0
}
